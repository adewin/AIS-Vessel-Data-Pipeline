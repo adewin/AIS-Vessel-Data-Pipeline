{
 "cells": [
  {
   "cell_type": "markdown",
   "metadata": {},
   "source": [
    "# AIS Shipping Data Demo\n",
    "\n",
    "In this demo, we'll be looking at a preprocessed csv file containing id-state-action-state transitions to plot the corresponding discretized ship trajectories on a map. For information on  how this csv was generated, please reference ``README.md``."
   ]
  },
  {
   "cell_type": "code",
   "execution_count": 1,
   "metadata": {},
   "outputs": [],
   "source": [
    "import yaml\n",
    "import numpy as np\n",
    "import pandas as pd\n",
    "import plotly\n",
    "import plotly.graph_objs as go"
   ]
  },
  {
   "cell_type": "markdown",
   "metadata": {},
   "source": [
    "First, we load the metadata. The metadata specifies the dimensions and resolution of the grid in longitude and latitude so we can plot the discretized trajectories on a map by mapping coordinates to states. The ``grid_len`` is the side length of one square in degrees of a regular Euclidean grid with ``num_cols`` columns. With this information, we can deduce the boundaries of a grid square from an integer state. The metadata also contains a copy of how the preprocessing was performed so we can know the format of the csv."
   ]
  },
  {
   "cell_type": "code",
   "execution_count": 2,
   "metadata": {},
   "outputs": [
    {
     "data": {
      "text/plain": [
       "{'all_files_meta': {'AIS_2017_01_Zone18.csv': {'month': 1,\n",
       "   'year': 2017,\n",
       "   'zone': 18}},\n",
       " 'directories': {'in_dir_data': 'ais_data_output.csv', 'in_dir_path': './'},\n",
       " 'grid_params': {'grid_len': 0.5,\n",
       "  'max_lat': 50.0,\n",
       "  'max_lon': -72.0,\n",
       "  'min_lat': 25.0,\n",
       "  'min_lon': -78.0,\n",
       "  'num_cols': 12},\n",
       " 'options': {'allow_diag': False,\n",
       "  'append_coords': True,\n",
       "  'bound_lat': True,\n",
       "  'bound_lon': False,\n",
       "  'bound_time': True,\n",
       "  'bound_zone': True,\n",
       "  'interp_actions': True,\n",
       "  'limit_rows': True,\n",
       "  'max_rows': 1000000,\n",
       "  'min_states': 2,\n",
       "  'prec_coords': 3}}"
      ]
     },
     "execution_count": 2,
     "metadata": {},
     "output_type": "execute_result"
    }
   ],
   "source": [
    "meta_file= 'meta_data.yaml'\n",
    "ais_meta = {}\n",
    "with open(meta_file, 'r') as stream:\n",
    "    try:\n",
    "        ais_meta = yaml.safe_load(stream)\n",
    "    except yaml.YAMLError as exc:\n",
    "        print(exc)\n",
    "\n",
    "all_files_meta = ais_meta['all_files_meta']\n",
    "options = ais_meta['options']\n",
    "directories = ais_meta['directories']\n",
    "grid_params = ais_meta['grid_params']\n",
    "\n",
    "# specifies input directory and files of interest\n",
    "in_dir_path = directories['in_dir_path']\n",
    "in_dir_data = directories['in_dir_data']\n",
    "\n",
    "ais_meta"
   ]
  },
  {
   "cell_type": "markdown",
   "metadata": {},
   "source": [
    "Now we load the sequences.\n",
    "\n",
    "In this data, there are thousands of trajectories."
   ]
  },
  {
   "cell_type": "code",
   "execution_count": 3,
   "metadata": {},
   "outputs": [
    {
     "data": {
      "text/html": [
       "<div>\n",
       "<style scoped>\n",
       "    .dataframe tbody tr th:only-of-type {\n",
       "        vertical-align: middle;\n",
       "    }\n",
       "\n",
       "    .dataframe tbody tr th {\n",
       "        vertical-align: top;\n",
       "    }\n",
       "\n",
       "    .dataframe thead th {\n",
       "        text-align: right;\n",
       "    }\n",
       "</style>\n",
       "<table border=\"1\" class=\"dataframe\">\n",
       "  <thead>\n",
       "    <tr style=\"text-align: right;\">\n",
       "      <th></th>\n",
       "      <th>ID</th>\n",
       "      <th>PREV</th>\n",
       "      <th>ACT</th>\n",
       "      <th>CUR</th>\n",
       "      <th>LON</th>\n",
       "      <th>LAT</th>\n",
       "    </tr>\n",
       "  </thead>\n",
       "  <tbody>\n",
       "    <tr>\n",
       "      <th>0</th>\n",
       "      <td>0</td>\n",
       "      <td>380</td>\n",
       "      <td>3</td>\n",
       "      <td>379</td>\n",
       "      <td>-73.876</td>\n",
       "      <td>40.799</td>\n",
       "    </tr>\n",
       "    <tr>\n",
       "      <th>1</th>\n",
       "      <td>0</td>\n",
       "      <td>379</td>\n",
       "      <td>1</td>\n",
       "      <td>380</td>\n",
       "      <td>-74.002</td>\n",
       "      <td>40.702</td>\n",
       "    </tr>\n",
       "    <tr>\n",
       "      <th>2</th>\n",
       "      <td>0</td>\n",
       "      <td>380</td>\n",
       "      <td>-1</td>\n",
       "      <td>-1</td>\n",
       "      <td>-74.000</td>\n",
       "      <td>40.704</td>\n",
       "    </tr>\n",
       "    <tr>\n",
       "      <th>3</th>\n",
       "      <td>1</td>\n",
       "      <td>379</td>\n",
       "      <td>4</td>\n",
       "      <td>367</td>\n",
       "      <td>-74.285</td>\n",
       "      <td>40.505</td>\n",
       "    </tr>\n",
       "    <tr>\n",
       "      <th>4</th>\n",
       "      <td>1</td>\n",
       "      <td>367</td>\n",
       "      <td>2</td>\n",
       "      <td>379</td>\n",
       "      <td>-74.284</td>\n",
       "      <td>40.499</td>\n",
       "    </tr>\n",
       "  </tbody>\n",
       "</table>\n",
       "</div>"
      ],
      "text/plain": [
       "   ID  PREV  ACT  CUR     LON     LAT\n",
       "0   0   380    3  379 -73.876  40.799\n",
       "1   0   379    1  380 -74.002  40.702\n",
       "2   0   380   -1   -1 -74.000  40.704\n",
       "3   1   379    4  367 -74.285  40.505\n",
       "4   1   367    2  379 -74.284  40.499"
      ]
     },
     "execution_count": 3,
     "metadata": {},
     "output_type": "execute_result"
    }
   ],
   "source": [
    "# reads in first file of interest\n",
    "ais_data = pd.read_csv(in_dir_path + in_dir_data)\n",
    "\n",
    "ais_data.head()"
   ]
  },
  {
   "cell_type": "markdown",
   "metadata": {},
   "source": [
    "We define a function that converts the ``state_id``s from the ``ais_data`` to the coordinates of the bottom left corner of the corresponding grid square."
   ]
  },
  {
   "cell_type": "code",
   "execution_count": 4,
   "metadata": {},
   "outputs": [],
   "source": [
    "def state_to_coord(state):\n",
    "    state_col = state % grid_params['num_cols']\n",
    "    state_row = state // grid_params['num_cols']\n",
    "    state_lon = grid_params['min_lon'] + grid_params['grid_len'] * (state_col + 0.5)\n",
    "    state_lat = grid_params['min_lat'] + grid_params['grid_len'] * (state_row + 0.5)\n",
    "    return state_lon, state_lat"
   ]
  },
  {
   "cell_type": "markdown",
   "metadata": {},
   "source": [
    "We use pandas to create a new dataframe that will contain the coordinates of the center of each state in each sequence, if this was not done in the preprocessing with the ``append_coords`` option"
   ]
  },
  {
   "cell_type": "code",
   "execution_count": 5,
   "metadata": {
    "scrolled": true
   },
   "outputs": [
    {
     "data": {
      "text/html": [
       "<div>\n",
       "<style scoped>\n",
       "    .dataframe tbody tr th:only-of-type {\n",
       "        vertical-align: middle;\n",
       "    }\n",
       "\n",
       "    .dataframe tbody tr th {\n",
       "        vertical-align: top;\n",
       "    }\n",
       "\n",
       "    .dataframe thead th {\n",
       "        text-align: right;\n",
       "    }\n",
       "</style>\n",
       "<table border=\"1\" class=\"dataframe\">\n",
       "  <thead>\n",
       "    <tr style=\"text-align: right;\">\n",
       "      <th></th>\n",
       "      <th>ID</th>\n",
       "      <th>PREV</th>\n",
       "      <th>ACT</th>\n",
       "      <th>CUR</th>\n",
       "      <th>LON</th>\n",
       "      <th>LAT</th>\n",
       "    </tr>\n",
       "  </thead>\n",
       "  <tbody>\n",
       "    <tr>\n",
       "      <th>0</th>\n",
       "      <td>0</td>\n",
       "      <td>380</td>\n",
       "      <td>3</td>\n",
       "      <td>379</td>\n",
       "      <td>-73.876</td>\n",
       "      <td>40.799</td>\n",
       "    </tr>\n",
       "    <tr>\n",
       "      <th>1</th>\n",
       "      <td>0</td>\n",
       "      <td>379</td>\n",
       "      <td>1</td>\n",
       "      <td>380</td>\n",
       "      <td>-74.002</td>\n",
       "      <td>40.702</td>\n",
       "    </tr>\n",
       "    <tr>\n",
       "      <th>2</th>\n",
       "      <td>0</td>\n",
       "      <td>380</td>\n",
       "      <td>-1</td>\n",
       "      <td>-1</td>\n",
       "      <td>-74.000</td>\n",
       "      <td>40.704</td>\n",
       "    </tr>\n",
       "    <tr>\n",
       "      <th>3</th>\n",
       "      <td>1</td>\n",
       "      <td>379</td>\n",
       "      <td>4</td>\n",
       "      <td>367</td>\n",
       "      <td>-74.285</td>\n",
       "      <td>40.505</td>\n",
       "    </tr>\n",
       "    <tr>\n",
       "      <th>4</th>\n",
       "      <td>1</td>\n",
       "      <td>367</td>\n",
       "      <td>2</td>\n",
       "      <td>379</td>\n",
       "      <td>-74.284</td>\n",
       "      <td>40.499</td>\n",
       "    </tr>\n",
       "  </tbody>\n",
       "</table>\n",
       "</div>"
      ],
      "text/plain": [
       "   ID  PREV  ACT  CUR     LON     LAT\n",
       "0   0   380    3  379 -73.876  40.799\n",
       "1   0   379    1  380 -74.002  40.702\n",
       "2   0   380   -1   -1 -74.000  40.704\n",
       "3   1   379    4  367 -74.285  40.505\n",
       "4   1   367    2  379 -74.284  40.499"
      ]
     },
     "execution_count": 5,
     "metadata": {},
     "output_type": "execute_result"
    }
   ],
   "source": [
    "if not options['append_coords']:\n",
    "    ais_data[['LON', 'LAT']] = ais_data.apply(lambda x: state_to_coord(x['PREV']), axis=1, result_type='expand')\n",
    "ais_data.head()"
   ]
  },
  {
   "cell_type": "markdown",
   "metadata": {},
   "source": [
    "With the latitudes and longitudes now available, we add a final row to each trajectory with just the last state so a one-to-one mapping of state to coordinates is formed, if this was not already done in preprocessing."
   ]
  },
  {
   "cell_type": "code",
   "execution_count": 6,
   "metadata": {},
   "outputs": [],
   "source": [
    "if not options['append_coords']:\n",
    "    sequence_dfs = pd.DataFrame(columns=['ID', 'PREV', 'ACT', 'CUR', 'LON', 'LAT'])\n",
    "    for traj_num, traj in ais_data.groupby('ID'):\n",
    "        # adds final dummy row to each sequence with just the final state in the trajectory\n",
    "        last_state = traj['CUR'].iloc[-1]\n",
    "        last_lon, last_lat = state_to_coord(last_state)\n",
    "\n",
    "        final_state = {'ID': traj_num, 'PREV': last_state, 'ACT': -1, 'CUR': -1, 'LON': last_lon, 'LAT': last_lat}\n",
    "        final_df = pd.DataFrame(final_state, index=[0, ])\n",
    "        traj = pd.concat([traj, final_df], ignore_index=True)\n",
    "        \n",
    "        sequence_dfs = pd.concat([sequence_dfs, traj], ignore_index=True)\n",
    "    \n",
    "    ais_data = sequence_dfs\n",
    "        \n",
    "    print(sequence_dfs)"
   ]
  },
  {
   "cell_type": "markdown",
   "metadata": {},
   "source": [
    "We then use plotly to plot the desired area of the globe."
   ]
  },
  {
   "cell_type": "code",
   "execution_count": 8,
   "metadata": {},
   "outputs": [
    {
     "data": {
      "text/html": [
       "        <script type=\"text/javascript\">\n",
       "        window.PlotlyConfig = {MathJaxConfig: 'local'};\n",
       "        if (window.MathJax) {MathJax.Hub.Config({SVG: {font: \"STIX-Web\"}});}\n",
       "        if (typeof require !== 'undefined') {\n",
       "        require.undef(\"plotly\");\n",
       "        requirejs.config({\n",
       "            paths: {\n",
       "                'plotly': ['https://cdn.plot.ly/plotly-latest.min']\n",
       "            }\n",
       "        });\n",
       "        require(['plotly'], function(Plotly) {\n",
       "            window._Plotly = Plotly;\n",
       "        });\n",
       "        }\n",
       "        </script>\n",
       "        "
      ]
     },
     "metadata": {},
     "output_type": "display_data"
    },
    {
     "data": {
      "application/vnd.jupyter.widget-view+json": {
       "model_id": "e26dcabcdb7a49d6ab5e8d975c5c8ec3",
       "version_major": 2,
       "version_minor": 0
      },
      "text/plain": [
       "FigureWidget({\n",
       "    'data': [{'hoverinfo': 'text',\n",
       "              'lat': array([40.799, 40.702, 40.704, ..., 39.…"
      ]
     },
     "metadata": {},
     "output_type": "display_data"
    }
   ],
   "source": [
    "# controls how many trajectories to plot - set to -1 to plot all trajectories available\n",
    "MAX_TRAJECTORIES = 200\n",
    "\n",
    "plotly.offline.init_notebook_mode(connected=True)\n",
    "\n",
    "if MAX_TRAJECTORIES > -1:\n",
    "    ais_data = ais_data[ais_data['ID'] < MAX_TRAJECTORIES]\n",
    "\n",
    "ais_unique = ais_data[['LON', 'LAT']].drop_duplicates()  # gets the unique coordinates we're going to plot\n",
    "    \n",
    "ais_states = [go.Scattergeo(\n",
    "    locationmode = 'USA-states',\n",
    "    lon = ais_unique['LON'],\n",
    "    lat = ais_unique['LAT'],\n",
    "    hoverinfo = 'text',\n",
    "    text = ais_data['ID'],\n",
    "    mode = 'markers',\n",
    "    marker = go.scattergeo.Marker(\n",
    "        size = 2,\n",
    "        color = 'red',\n",
    "        line = go.scattergeo.marker.Line(\n",
    "            width = 3,\n",
    "            color = 'rgba(68, 68, 68, 50)'\n",
    "        )\n",
    "    ))]\n",
    "\n",
    "\n",
    "ais_trajectories = []\n",
    "for traj_num, traj_data in ais_data.groupby('ID'):\n",
    "    # gets random color for each trajectory\n",
    "    red = str(np.random.randint(0, high=230))\n",
    "    green = str(np.random.randint(0, high=230))\n",
    "    blue = str(np.random.randint(0, high=230))\n",
    "    ais_trajectories.append(\n",
    "        go.Scattergeo(\n",
    "            lon = traj_data['LON'],\n",
    "            lat = traj_data['LAT'],\n",
    "            mode = 'lines',\n",
    "            line = go.scattergeo.Line(\n",
    "                width = 1,\n",
    "                color = 'rgb(' + red + ', ' + blue + ', ' + green + ')',\n",
    "            ),\n",
    "        )\n",
    "    )\n",
    "\n",
    "layout = go.Layout(\n",
    "    autosize=False,\n",
    "    width=900,\n",
    "    height=750,\n",
    "    title = go.layout.Title(\n",
    "        text = 'Shipping data states scatter'\n",
    "    ),\n",
    "    showlegend = False,\n",
    "    geo = go.layout.Geo(\n",
    "        scope = 'north america',\n",
    "        resolution = 50,\n",
    "        projection = go.layout.geo.Projection(\n",
    "            type = 'equirectangular'\n",
    "        ),\n",
    "        showland = True,\n",
    "        showlakes = True,\n",
    "        coastlinewidth = 2,\n",
    "        landcolor = 'rgb(204, 204, 204)',\n",
    "        lakecolor = 'rgb(255,255,255)',\n",
    "        countrycolor = 'rgb(190, 190, 190)',\n",
    "        lonaxis = go.layout.geo.Lonaxis(\n",
    "            range = [grid_params['min_lon'] - 25, grid_params['max_lon'] + 25],\n",
    "            showgrid = True,\n",
    "            dtick = grid_params['grid_len']\n",
    "        ),\n",
    "        lataxis = go.layout.geo.Lataxis(\n",
    "            range = [grid_params['min_lat'] - 15, grid_params['max_lat'] + 15],\n",
    "            showgrid = True,\n",
    "            dtick = grid_params['grid_len']\n",
    "        ),\n",
    "    ),\n",
    ")\n",
    "\n",
    "fig = go.FigureWidget(data = ais_states + ais_trajectories, layout = layout)\n",
    "\n",
    "lines = fig.data[1:]\n",
    "\n",
    "# create our callback function\n",
    "def update_point(trace, points, selector):\n",
    "    if len(points.point_inds) > 0:\n",
    "        trace.line.width += 1\n",
    "\n",
    "for line in lines:\n",
    "    line.on_click(update_point)\n",
    "\n",
    "fig"
   ]
  }
 ],
 "metadata": {
  "kernelspec": {
   "display_name": "Python 3",
   "language": "python",
   "name": "python3"
  },
  "language_info": {
   "codemirror_mode": {
    "name": "ipython",
    "version": 3
   },
   "file_extension": ".py",
   "mimetype": "text/x-python",
   "name": "python",
   "nbconvert_exporter": "python",
   "pygments_lexer": "ipython3",
   "version": "3.7.3"
  }
 },
 "nbformat": 4,
 "nbformat_minor": 2
}
