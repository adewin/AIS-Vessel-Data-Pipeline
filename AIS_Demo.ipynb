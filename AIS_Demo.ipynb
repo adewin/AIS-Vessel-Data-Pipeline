{
 "cells": [
  {
   "cell_type": "markdown",
   "metadata": {},
   "source": [
    "# AIS Shipping Data Demo\n",
    "\n",
    "In this demo, we'll be looking at a preprocessed csv file containing state-action-state triplets that will be fed into an invese reinforcement learning algorithm to learn distribution of ship trajectories. For information on  how this csv was generated, please reference README.md."
   ]
  },
  {
   "cell_type": "code",
   "execution_count": 1,
   "metadata": {},
   "outputs": [],
   "source": [
    "import numpy as np\n",
    "import pandas as pd\n",
    "import plotly\n",
    "import plotly.graph_objs as go"
   ]
  },
  {
   "cell_type": "markdown",
   "metadata": {},
   "source": [
    "First, we load the sequences. This data covers shipping data from the USA's eastern seaboard (76 to 72 deg W) for January 2017.\n",
    "\n",
    "In this data, there are thousands of trajectories."
   ]
  },
  {
   "cell_type": "code",
   "execution_count": 2,
   "metadata": {},
   "outputs": [
    {
     "data": {
      "text/html": [
       "<div>\n",
       "<style scoped>\n",
       "    .dataframe tbody tr th:only-of-type {\n",
       "        vertical-align: middle;\n",
       "    }\n",
       "\n",
       "    .dataframe tbody tr th {\n",
       "        vertical-align: top;\n",
       "    }\n",
       "\n",
       "    .dataframe thead th {\n",
       "        text-align: right;\n",
       "    }\n",
       "</style>\n",
       "<table border=\"1\" class=\"dataframe\">\n",
       "  <thead>\n",
       "    <tr style=\"text-align: right;\">\n",
       "      <th></th>\n",
       "      <th>sequence_id</th>\n",
       "      <th>from_state_id</th>\n",
       "      <th>action_id</th>\n",
       "      <th>to_state_id</th>\n",
       "    </tr>\n",
       "  </thead>\n",
       "  <tbody>\n",
       "    <tr>\n",
       "      <th>0</th>\n",
       "      <td>0</td>\n",
       "      <td>833</td>\n",
       "      <td>5</td>\n",
       "      <td>832</td>\n",
       "    </tr>\n",
       "    <tr>\n",
       "      <th>1</th>\n",
       "      <td>0</td>\n",
       "      <td>832</td>\n",
       "      <td>1</td>\n",
       "      <td>833</td>\n",
       "    </tr>\n",
       "    <tr>\n",
       "      <th>2</th>\n",
       "      <td>0</td>\n",
       "      <td>833</td>\n",
       "      <td>5</td>\n",
       "      <td>832</td>\n",
       "    </tr>\n",
       "    <tr>\n",
       "      <th>3</th>\n",
       "      <td>0</td>\n",
       "      <td>832</td>\n",
       "      <td>1</td>\n",
       "      <td>833</td>\n",
       "    </tr>\n",
       "    <tr>\n",
       "      <th>4</th>\n",
       "      <td>0</td>\n",
       "      <td>833</td>\n",
       "      <td>5</td>\n",
       "      <td>832</td>\n",
       "    </tr>\n",
       "  </tbody>\n",
       "</table>\n",
       "</div>"
      ],
      "text/plain": [
       "   sequence_id  from_state_id  action_id  to_state_id\n",
       "0            0            833          5          832\n",
       "1            0            832          1          833\n",
       "2            0            833          5          832\n",
       "3            0            832          1          833\n",
       "4            0            833          5          832"
      ]
     },
     "execution_count": 2,
     "metadata": {},
     "output_type": "execute_result"
    }
   ],
   "source": [
    "# specifies input directory and files of interest\n",
    "in_dir = './'\n",
    "in_file_data = 'ais_data_output.csv'\n",
    "in_file_meta= 'ais_meta_output.csv'\n",
    "\n",
    "# reads in first file of interest\n",
    "ais_data = pd.read_csv(in_dir + in_file_data)\n",
    "\n",
    "ais_data.head()"
   ]
  },
  {
   "cell_type": "markdown",
   "metadata": {},
   "source": [
    "Next, we load the metadata. All this does is specify the dimensions and resolution of the grid in latitude and longitude so we can plot the discretized trajectories on a map. The ``grid_len`` is the side length of one square in degrees of a regular Euclidean grid with ``num_cols`` columns. With this information, we can deduce the boundaries of a grid square from an integer state."
   ]
  },
  {
   "cell_type": "code",
   "execution_count": 3,
   "metadata": {},
   "outputs": [
    {
     "data": {
      "text/plain": [
       "{'grid_len': 0.5,\n",
       " 'num_cols': 12,\n",
       " 'min_lat': 5.0,\n",
       " 'max_lat': 76.0,\n",
       " 'min_lon': -78.0,\n",
       " 'max_lon': -72.0}"
      ]
     },
     "execution_count": 3,
     "metadata": {},
     "output_type": "execute_result"
    }
   ],
   "source": [
    "ais_meta = pd.read_csv(in_dir + in_file_meta)\n",
    "ais_meta = ais_meta.to_dict(orient='records')[0]\n",
    "\n",
    "ais_meta"
   ]
  },
  {
   "cell_type": "markdown",
   "metadata": {},
   "source": [
    "We define a function that converts the ``state_id``s from the ``ais_data`` to the coordinates of the top left corner of the corresponding grid square"
   ]
  },
  {
   "cell_type": "code",
   "execution_count": 4,
   "metadata": {},
   "outputs": [],
   "source": [
    "def state_to_coord(state):\n",
    "    state_row = state // ais_meta['num_cols']\n",
    "    state_col = state % ais_meta['num_cols']\n",
    "    state_lat = ais_meta['min_lat'] + ais_meta['grid_len'] * state_row\n",
    "    state_lon = ais_meta['min_lon'] + ais_meta['grid_len'] * state_col\n",
    "    return state_lat, state_lon"
   ]
  },
  {
   "cell_type": "markdown",
   "metadata": {},
   "source": [
    "We use pandas to create a new dataframe that will contain the coordinates of the center of each state in each sequence."
   ]
  },
  {
   "cell_type": "code",
   "execution_count": 5,
   "metadata": {
    "scrolled": false
   },
   "outputs": [
    {
     "data": {
      "text/html": [
       "<div>\n",
       "<style scoped>\n",
       "    .dataframe tbody tr th:only-of-type {\n",
       "        vertical-align: middle;\n",
       "    }\n",
       "\n",
       "    .dataframe tbody tr th {\n",
       "        vertical-align: top;\n",
       "    }\n",
       "\n",
       "    .dataframe thead th {\n",
       "        text-align: right;\n",
       "    }\n",
       "</style>\n",
       "<table border=\"1\" class=\"dataframe\">\n",
       "  <thead>\n",
       "    <tr style=\"text-align: right;\">\n",
       "      <th></th>\n",
       "      <th>sequence_id</th>\n",
       "      <th>from_state_id</th>\n",
       "      <th>action_id</th>\n",
       "      <th>to_state_id</th>\n",
       "      <th>lat</th>\n",
       "      <th>lon</th>\n",
       "    </tr>\n",
       "  </thead>\n",
       "  <tbody>\n",
       "    <tr>\n",
       "      <th>0</th>\n",
       "      <td>0</td>\n",
       "      <td>833</td>\n",
       "      <td>5</td>\n",
       "      <td>832</td>\n",
       "      <td>39.25</td>\n",
       "      <td>-75.25</td>\n",
       "    </tr>\n",
       "    <tr>\n",
       "      <th>1</th>\n",
       "      <td>0</td>\n",
       "      <td>832</td>\n",
       "      <td>1</td>\n",
       "      <td>833</td>\n",
       "      <td>39.25</td>\n",
       "      <td>-75.75</td>\n",
       "    </tr>\n",
       "    <tr>\n",
       "      <th>2</th>\n",
       "      <td>0</td>\n",
       "      <td>833</td>\n",
       "      <td>5</td>\n",
       "      <td>832</td>\n",
       "      <td>39.25</td>\n",
       "      <td>-75.25</td>\n",
       "    </tr>\n",
       "    <tr>\n",
       "      <th>3</th>\n",
       "      <td>0</td>\n",
       "      <td>832</td>\n",
       "      <td>1</td>\n",
       "      <td>833</td>\n",
       "      <td>39.25</td>\n",
       "      <td>-75.75</td>\n",
       "    </tr>\n",
       "    <tr>\n",
       "      <th>4</th>\n",
       "      <td>0</td>\n",
       "      <td>833</td>\n",
       "      <td>5</td>\n",
       "      <td>832</td>\n",
       "      <td>39.25</td>\n",
       "      <td>-75.25</td>\n",
       "    </tr>\n",
       "  </tbody>\n",
       "</table>\n",
       "</div>"
      ],
      "text/plain": [
       "   sequence_id  from_state_id  action_id  to_state_id    lat    lon\n",
       "0            0            833          5          832  39.25 -75.25\n",
       "1            0            832          1          833  39.25 -75.75\n",
       "2            0            833          5          832  39.25 -75.25\n",
       "3            0            832          1          833  39.25 -75.75\n",
       "4            0            833          5          832  39.25 -75.25"
      ]
     },
     "execution_count": 5,
     "metadata": {},
     "output_type": "execute_result"
    }
   ],
   "source": [
    "# TODO: might be a better idea to just create a dictionary of state: (lat, lon)\n",
    "# TODO: get unique latitude longitude tuples for plotting on map so that the app doesn't die\n",
    "cols = ['lat', 'lon']\n",
    "ais_coord = ais_data['from_state_id'].apply(state_to_coord)\n",
    "ais_data[cols] = pd.DataFrame(ais_coord.tolist()) + [-ais_meta['grid_len'] / 2, ais_meta['grid_len'] / 2]\n",
    "ais_data.head()"
   ]
  },
  {
   "cell_type": "markdown",
   "metadata": {},
   "source": [
    "We also create a dataframe that contains only the unique coordinate tuples in the dataset so that each state is only plotted once on the scatterplot"
   ]
  },
  {
   "cell_type": "code",
   "execution_count": 6,
   "metadata": {},
   "outputs": [
    {
     "data": {
      "text/html": [
       "<div>\n",
       "<style scoped>\n",
       "    .dataframe tbody tr th:only-of-type {\n",
       "        vertical-align: middle;\n",
       "    }\n",
       "\n",
       "    .dataframe tbody tr th {\n",
       "        vertical-align: top;\n",
       "    }\n",
       "\n",
       "    .dataframe thead th {\n",
       "        text-align: right;\n",
       "    }\n",
       "</style>\n",
       "<table border=\"1\" class=\"dataframe\">\n",
       "  <thead>\n",
       "    <tr style=\"text-align: right;\">\n",
       "      <th></th>\n",
       "      <th>lat</th>\n",
       "      <th>lon</th>\n",
       "    </tr>\n",
       "  </thead>\n",
       "  <tbody>\n",
       "    <tr>\n",
       "      <th>0</th>\n",
       "      <td>39.25</td>\n",
       "      <td>-75.25</td>\n",
       "    </tr>\n",
       "    <tr>\n",
       "      <th>1</th>\n",
       "      <td>39.25</td>\n",
       "      <td>-75.75</td>\n",
       "    </tr>\n",
       "    <tr>\n",
       "      <th>2</th>\n",
       "      <td>38.75</td>\n",
       "      <td>-75.75</td>\n",
       "    </tr>\n",
       "    <tr>\n",
       "      <th>3</th>\n",
       "      <td>38.75</td>\n",
       "      <td>-76.25</td>\n",
       "    </tr>\n",
       "    <tr>\n",
       "      <th>4</th>\n",
       "      <td>38.25</td>\n",
       "      <td>-76.25</td>\n",
       "    </tr>\n",
       "  </tbody>\n",
       "</table>\n",
       "</div>"
      ],
      "text/plain": [
       "     lat    lon\n",
       "0  39.25 -75.25\n",
       "1  39.25 -75.75\n",
       "2  38.75 -75.75\n",
       "3  38.75 -76.25\n",
       "4  38.25 -76.25"
      ]
     },
     "execution_count": 6,
     "metadata": {},
     "output_type": "execute_result"
    }
   ],
   "source": [
    "unique_coords = ais_coord.unique() \n",
    "ais_unique = pd.DataFrame(data=unique_coords.tolist(), columns=cols) + [-ais_meta['grid_len'] / 2, ais_meta['grid_len'] / 2]\n",
    "ais_unique.head()"
   ]
  },
  {
   "cell_type": "markdown",
   "metadata": {},
   "source": [
    "With the latitudes and longitudes now available, we create a list of dataframes, with each entry of the list corresponding to a different trajectory defined by the ``sequence_id`` column"
   ]
  },
  {
   "cell_type": "code",
   "execution_count": 7,
   "metadata": {},
   "outputs": [
    {
     "name": "stderr",
     "output_type": "stream",
     "text": [
      "/srv/cwhawley/envs/py36/lib/python3.6/site-packages/ipykernel_launcher.py:10: SettingWithCopyWarning:\n",
      "\n",
      "\n",
      "A value is trying to be set on a copy of a slice from a DataFrame\n",
      "\n",
      "See the caveats in the documentation: http://pandas.pydata.org/pandas-docs/stable/indexing.html#indexing-view-versus-copy\n",
      "\n",
      "/srv/cwhawley/envs/py36/lib/python3.6/site-packages/pandas/core/series.py:1085: SettingWithCopyWarning:\n",
      "\n",
      "\n",
      "A value is trying to be set on a copy of a slice from a DataFrame\n",
      "\n",
      "See the caveats in the documentation: http://pandas.pydata.org/pandas-docs/stable/indexing.html#indexing-view-versus-copy\n",
      "\n"
     ]
    }
   ],
   "source": [
    "sequence_id_unique = ais_data['sequence_id'].unique().tolist()\n",
    "sequence_dfs = []\n",
    "for seq_id in sequence_id_unique:\n",
    "    seq_df = ais_data.loc[ais_data.sequence_id == seq_id]\n",
    "    # adds final dummy row to each sequence with just the final state in the trajectory\n",
    "    last_row = seq_df.iloc[-1]\n",
    "    lat, lon = state_to_coord(last_row['to_state_id'])\n",
    "    lat += -ais_meta['grid_len'] / 2\n",
    "    lon += ais_meta['grid_len'] / 2\n",
    "    last_row[['from_state_id', 'action_id', 'to_state_id', 'lat', 'lon']] = [last_row['to_state_id'], np.nan, np.nan, lat, lon]\n",
    "    last_row = np.reshape(last_row.tolist(), (1, -1))\n",
    "    last_row = pd.DataFrame(data=last_row, columns=seq_df.columns)\n",
    "    seq_df = pd.concat([seq_df, last_row], ignore_index=True)\n",
    "    # adds sequence to the list of sequences\n",
    "    sequence_dfs.append(seq_df)\n",
    "# TODO: I might want to drop the sequence_id row at this point..."
   ]
  },
  {
   "cell_type": "markdown",
   "metadata": {},
   "source": [
    "We then use plotly to plot the desired area of the globe before marking it up"
   ]
  },
  {
   "cell_type": "code",
   "execution_count": 8,
   "metadata": {},
   "outputs": [
    {
     "data": {
      "text/html": [
       "        <script type=\"text/javascript\">\n",
       "        window.PlotlyConfig = {MathJaxConfig: 'local'};\n",
       "        if (window.MathJax) {MathJax.Hub.Config({SVG: {font: \"STIX-Web\"}});}\n",
       "        if (typeof require !== 'undefined') {\n",
       "        require.undef(\"plotly\");\n",
       "        requirejs.config({\n",
       "            paths: {\n",
       "                'plotly': ['https://cdn.plot.ly/plotly-latest.min']\n",
       "            }\n",
       "        });\n",
       "        require(['plotly'], function(Plotly) {\n",
       "            window._Plotly = Plotly;\n",
       "        });\n",
       "        }\n",
       "        </script>\n",
       "        "
      ]
     },
     "metadata": {},
     "output_type": "display_data"
    },
    {
     "data": {
      "application/vnd.jupyter.widget-view+json": {
       "model_id": "7be784f50a98448ebc6e72b7868f753a",
       "version_major": 2,
       "version_minor": 0
      },
      "text/plain": [
       "FigureWidget({\n",
       "    'data': [{'lat': array([39.25, 39.25, 38.75, ..., 16.75, 15.25, 15.25]),\n",
       "              'loc…"
      ]
     },
     "metadata": {},
     "output_type": "display_data"
    }
   ],
   "source": [
    "plotly.offline.init_notebook_mode(connected=True)\n",
    "\n",
    "ais_states = [go.Scattergeo(\n",
    "    locationmode = 'USA-states',\n",
    "    lon = ais_unique['lon'],\n",
    "    lat = ais_unique['lat'],\n",
    "    # hoverinfo = 'text',\n",
    "    # text = ais_data['from_state_id'],\n",
    "    mode = 'markers',\n",
    "    marker = go.scattergeo.Marker(\n",
    "        size = 2,\n",
    "        color = 'red',\n",
    "        line = go.scattergeo.marker.Line(\n",
    "            width = 3,\n",
    "            color = 'rgba(68, 68, 68, 50)'\n",
    "        )\n",
    "    ))]\n",
    "\n",
    "\n",
    "MAX_TRAJECTORIES = 20\n",
    "ais_trajectories = []\n",
    "# for i in range(MAX_TRAJECTORIES):\n",
    "for i in range(len(sequence_dfs)):\n",
    "    sequence_df = sequence_dfs[i]\n",
    "    # gets random color for each trajectory\n",
    "    red = str(np.random.randint(0, high=230))\n",
    "    green = str(np.random.randint(0, high=230))\n",
    "    blue = str(np.random.randint(0, high=230))\n",
    "    ais_trajectories.append(\n",
    "        go.Scattergeo(\n",
    "            lon = sequence_df['lon'],\n",
    "            lat = sequence_df['lat'],\n",
    "            mode = 'lines',\n",
    "            line = go.scattergeo.Line(\n",
    "                width = 1,\n",
    "                color = 'rgb(' + red + ', ' + blue + ', ' + green + ')',\n",
    "            ),\n",
    "        )\n",
    "    )\n",
    "\n",
    "layout = go.Layout(\n",
    "    autosize=False,\n",
    "    width=900,\n",
    "    height=750,\n",
    "    title = go.layout.Title(\n",
    "        text = 'Shipping data states scatter'\n",
    "    ),\n",
    "    showlegend = False,\n",
    "    geo = go.layout.Geo(\n",
    "        scope = 'north america',\n",
    "        resolution = 50,\n",
    "        projection = go.layout.geo.Projection(\n",
    "            type = 'equirectangular'\n",
    "        ),\n",
    "        showland = True,\n",
    "        showlakes = True,\n",
    "        coastlinewidth = 2,\n",
    "        landcolor = 'rgb(204, 204, 204)',\n",
    "        lakecolor = 'rgb(255,255,255)',\n",
    "        countrycolor = 'rgb(190, 190, 190)',\n",
    "        lataxis = go.layout.geo.Lataxis(\n",
    "            range = [ais_meta['min_lat'], ais_meta['max_lat']],\n",
    "            showgrid = True,\n",
    "            dtick = ais_meta['grid_len']\n",
    "        ),\n",
    "        lonaxis = go.layout.geo.Lonaxis(\n",
    "            # range = [ais_meta['min_lon'], ais_meta['max_lon']],\n",
    "            range = [-150, -50],\n",
    "            showgrid = True,\n",
    "            dtick = ais_meta['grid_len']\n",
    "        ),\n",
    "    ),\n",
    ")\n",
    "\n",
    "fig = go.FigureWidget(data = ais_states + ais_trajectories, layout = layout)\n",
    "\n",
    "lines = fig.data[1:]\n",
    "\n",
    "# create our callback function\n",
    "def update_point(trace, points, selector):\n",
    "    if len(points.point_inds) > 0:\n",
    "        trace.line.width += 1\n",
    "\n",
    "for line in lines:\n",
    "    line.on_click(update_point)\n",
    "\n",
    "fig"
   ]
  }
 ],
 "metadata": {
  "kernelspec": {
   "display_name": "Python 3",
   "language": "python",
   "name": "python3"
  },
  "language_info": {
   "codemirror_mode": {
    "name": "ipython",
    "version": 3
   },
   "file_extension": ".py",
   "mimetype": "text/x-python",
   "name": "python",
   "nbconvert_exporter": "python",
   "pygments_lexer": "ipython3",
   "version": "3.7.3"
  }
 },
 "nbformat": 4,
 "nbformat_minor": 2
}
